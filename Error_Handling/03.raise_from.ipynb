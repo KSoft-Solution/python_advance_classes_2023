{
 "cells": [
  {
   "cell_type": "code",
   "execution_count": null,
   "metadata": {},
   "outputs": [],
   "source": [
    "class Error:\n",
    "    try:\n",
    "        errs = ['name error','syntax error','indentation error','range error']\n",
    "        print(errs[4])\n",
    "    # except ValueError as err:\n",
    "    #     print(err)\n",
    "    # except Exception as err:\n",
    "    #     print(Exception.__class__,err)\n",
    "    except LookupError as err:\n",
    "        print(err)\n"
   ]
  },
  {
   "cell_type": "code",
   "execution_count": null,
   "metadata": {},
   "outputs": [],
   "source": [
    "def Errors(data:any):\n",
    "    if not data:\n",
    "        raise NameError(\"error : \",\"you did't provided any data\")\n",
    "    for i in data:\n",
    "        print(i)\n",
    "\n",
    "\n",
    "# Errors(data=[\"err1\",\"err2\"])\n",
    "# Errors(data='')\n",
    "\n",
    "try:   \n",
    "    Errors(data='')\n",
    "except Exception as e:\n",
    "    print(e)\n"
   ]
  },
  {
   "cell_type": "code",
   "execution_count": null,
   "metadata": {},
   "outputs": [],
   "source": [
    "def calc(a:int,b:int)-> int:\n",
    "    try:\n",
    "        if not a and not b:\n",
    "            raise ValueError('a and b values are not provided!')\n",
    "        return a*b\n",
    "    except Exception as error:\n",
    "        print(error)\n",
    "\n",
    "\n",
    "calc(a=0,b=0)\n",
    "    "
   ]
  },
  {
   "cell_type": "code",
   "execution_count": null,
   "metadata": {},
   "outputs": [],
   "source": [
    "def calc(a:int,b:int)-> int:\n",
    "    try:\n",
    "        print(a/b)\n",
    "    except Exception as error:\n",
    "        raise ZeroDivisionError('values of b must not be zero') from error\n",
    "\n",
    "\n",
    "calc(a=0,b=0)"
   ]
  },
  {
   "cell_type": "code",
   "execution_count": 44,
   "metadata": {},
   "outputs": [
    {
     "name": "stdout",
     "output_type": "stream",
     "text": [
      "default error : None\n",
      "custom error from args : values of b must not be zero\n",
      "custom error : values of b must not be zero\n"
     ]
    }
   ],
   "source": [
    "def calc(a: int, b: int) -> int:\n",
    "    try:\n",
    "        print(a/b)\n",
    "    # except Exception as error:\n",
    "    #     raise ZeroDivisionError('values of b must not be zero') from error\n",
    "    except Exception as error:\n",
    "        raise ZeroDivisionError('values of b must not be zero') from None  # None\n",
    "    # except Exception as error:\n",
    "    #     raise ZeroDivisionError('values of b must not be zero') # None\n",
    "\n",
    "\n",
    "try:\n",
    "    calc(a=0, b=0)\n",
    "except Exception as e:\n",
    "    print('default error :', e.__cause__)\n",
    "    print('custom error from args :', e.args[0])\n",
    "    print('custom error :', e)\n",
    "else:\n",
    "    print('function calc is working fine')"
   ]
  }
 ],
 "metadata": {
  "kernelspec": {
   "display_name": "Python 3",
   "language": "python",
   "name": "python3"
  },
  "language_info": {
   "codemirror_mode": {
    "name": "ipython",
    "version": 3
   },
   "file_extension": ".py",
   "mimetype": "text/x-python",
   "name": "python",
   "nbconvert_exporter": "python",
   "pygments_lexer": "ipython3",
   "version": "3.10.4"
  },
  "orig_nbformat": 4,
  "vscode": {
   "interpreter": {
    "hash": "aef0ad5cd858520acf7a7a5e6810764bf6b17c229c37f21e929fa08adc6f6002"
   }
  }
 },
 "nbformat": 4,
 "nbformat_minor": 2
}
