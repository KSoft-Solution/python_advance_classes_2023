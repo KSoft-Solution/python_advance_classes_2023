{
 "cells": [
  {
   "cell_type": "code",
   "execution_count": 6,
   "metadata": {},
   "outputs": [
    {
     "name": "stdout",
     "output_type": "stream",
     "text": [
      "(\"you didn't given any name\",)\n",
      "\n"
     ]
    }
   ],
   "source": [
    "# try:\n",
    "#     raise ValueError('The value error exception', 'x', 'y')\n",
    "# except ValueError as ex:\n",
    "#     print(ex.args)\n",
    "\n",
    "\n",
    "def getYourName(name:str)->str:\n",
    "    try:\n",
    "        if not name:\n",
    "            raise ValueError(\"you didn't given any name\")\n",
    "    except ValueError as ex:\n",
    "        print(ex.args)    \n",
    "    return name\n",
    "\n",
    "print(getYourName(''))\n"
   ]
  }
 ],
 "metadata": {
  "kernelspec": {
   "display_name": "Python 3",
   "language": "python",
   "name": "python3"
  },
  "language_info": {
   "codemirror_mode": {
    "name": "ipython",
    "version": 3
   },
   "file_extension": ".py",
   "mimetype": "text/x-python",
   "name": "python",
   "nbconvert_exporter": "python",
   "pygments_lexer": "ipython3",
   "version": "3.10.4"
  },
  "orig_nbformat": 4,
  "vscode": {
   "interpreter": {
    "hash": "aef0ad5cd858520acf7a7a5e6810764bf6b17c229c37f21e929fa08adc6f6002"
   }
  }
 },
 "nbformat": 4,
 "nbformat_minor": 2
}
