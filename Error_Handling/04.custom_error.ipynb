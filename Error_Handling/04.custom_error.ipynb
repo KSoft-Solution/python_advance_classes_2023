{
 "cells": [
  {
   "cell_type": "code",
   "execution_count": 15,
   "metadata": {},
   "outputs": [
    {
     "name": "stdout",
     "output_type": "stream",
     "text": [
      "The degree celcius : 10.0 is not in range between 32 and 212\n"
     ]
    }
   ],
   "source": [
    "class SubSibSublAlkRj_Error(Exception):\n",
    "    min_f = 32\n",
    "    max_f = 212\n",
    "\n",
    "    def __init__(self, C: float, *args: object) -> None:\n",
    "        super().__init__(C, *args)\n",
    "        self.C = C\n",
    "\n",
    "    def __str__(self) -> str:\n",
    "        return f'The degree celcius : {self.C} is not in range between {self.min_f} and {self.max_f}'\n",
    "\n",
    "\n",
    "def convert_celsius_to_Fahrenheit(C: float) -> float:\n",
    "    if C < SubSibSublAlkRj_Error.min_f or C > SubSibSublAlkRj_Error.max_f:\n",
    "        raise SubSibSublAlkRj_Error(C)\n",
    "    return (C * 9/5) + 32\n",
    "\n",
    "\n",
    "if __name__ == \"__main__\":\n",
    "    try:\n",
    "        degree_celsius = float(input('enter the temperature in celcius '))\n",
    "    except ValueError as err:\n",
    "        print(err)\n",
    "        print(err.args[0])\n",
    "        print(err.__cause__)\n",
    "        print(err.__context__)\n",
    "    else:\n",
    "        try:\n",
    "            f = convert_celsius_to_Fahrenheit(degree_celsius)\n",
    "        except SubSibSublAlkRj_Error as error:\n",
    "            print(error)\n",
    "        else:\n",
    "            print(f'{degree_celsius}° C is equals to {f}° Fahrenheit')\n",
    "\n"
   ]
  }
 ],
 "metadata": {
  "kernelspec": {
   "display_name": "Python 3",
   "language": "python",
   "name": "python3"
  },
  "language_info": {
   "codemirror_mode": {
    "name": "ipython",
    "version": 3
   },
   "file_extension": ".py",
   "mimetype": "text/x-python",
   "name": "python",
   "nbconvert_exporter": "python",
   "pygments_lexer": "ipython3",
   "version": "3.10.4"
  },
  "orig_nbformat": 4,
  "vscode": {
   "interpreter": {
    "hash": "aef0ad5cd858520acf7a7a5e6810764bf6b17c229c37f21e929fa08adc6f6002"
   }
  }
 },
 "nbformat": 4,
 "nbformat_minor": 2
}
