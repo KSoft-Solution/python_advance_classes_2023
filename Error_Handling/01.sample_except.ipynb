{
 "cells": [
  {
   "cell_type": "code",
   "execution_count": 16,
   "metadata": {},
   "outputs": [
    {
     "name": "stdout",
     "output_type": "stream",
     "text": [
      "list index out of range\n",
      "error happened\n"
     ]
    },
    {
     "ename": "IndexError",
     "evalue": "error happens",
     "output_type": "error",
     "traceback": [
      "\u001b[1;31m---------------------------------------------------------------------------\u001b[0m",
      "\u001b[1;31mIndexError\u001b[0m                                Traceback (most recent call last)",
      "\u001b[1;32md:\\KSoft\\advance_python_training_classes\\Error_Handling\\01.sample_except.ipynb Cell 1\u001b[0m in \u001b[0;36m<cell line: 10>\u001b[1;34m()\u001b[0m\n\u001b[0;32m     <a href='vscode-notebook-cell:/d%3A/KSoft/advance_python_training_classes/Error_Handling/01.sample_except.ipynb#W0sZmlsZQ%3D%3D?line=9'>10</a>\u001b[0m \u001b[39mtry\u001b[39;00m:\n\u001b[1;32m---> <a href='vscode-notebook-cell:/d%3A/KSoft/advance_python_training_classes/Error_Handling/01.sample_except.ipynb#W0sZmlsZQ%3D%3D?line=10'>11</a>\u001b[0m     \u001b[39mprint\u001b[39m(students_of_Btech_Girls_brahmin[\u001b[39m6\u001b[39;49m])\n\u001b[0;32m     <a href='vscode-notebook-cell:/d%3A/KSoft/advance_python_training_classes/Error_Handling/01.sample_except.ipynb#W0sZmlsZQ%3D%3D?line=11'>12</a>\u001b[0m \u001b[39mexcept\u001b[39;00m \u001b[39mIndexError\u001b[39;00m \u001b[39mas\u001b[39;00m error:\n",
      "\u001b[1;31mIndexError\u001b[0m: list index out of range",
      "\nDuring handling of the above exception, another exception occurred:\n",
      "\u001b[1;31mIndexError\u001b[0m                                Traceback (most recent call last)",
      "\u001b[1;32md:\\KSoft\\advance_python_training_classes\\Error_Handling\\01.sample_except.ipynb Cell 1\u001b[0m in \u001b[0;36m<cell line: 10>\u001b[1;34m()\u001b[0m\n\u001b[0;32m     <a href='vscode-notebook-cell:/d%3A/KSoft/advance_python_training_classes/Error_Handling/01.sample_except.ipynb#W0sZmlsZQ%3D%3D?line=13'>14</a>\u001b[0m \u001b[39mif\u001b[39;00m error:\n\u001b[0;32m     <a href='vscode-notebook-cell:/d%3A/KSoft/advance_python_training_classes/Error_Handling/01.sample_except.ipynb#W0sZmlsZQ%3D%3D?line=14'>15</a>\u001b[0m     is_error_happened \u001b[39m=\u001b[39m \u001b[39mTrue\u001b[39;00m\n\u001b[1;32m---> <a href='vscode-notebook-cell:/d%3A/KSoft/advance_python_training_classes/Error_Handling/01.sample_except.ipynb#W0sZmlsZQ%3D%3D?line=15'>16</a>\u001b[0m     \u001b[39mraise\u001b[39;00m \u001b[39mIndexError\u001b[39;00m(\u001b[39m'\u001b[39m\u001b[39merror happens\u001b[39m\u001b[39m'\u001b[39m)\n\u001b[0;32m     <a href='vscode-notebook-cell:/d%3A/KSoft/advance_python_training_classes/Error_Handling/01.sample_except.ipynb#W0sZmlsZQ%3D%3D?line=16'>17</a>\u001b[0m \u001b[39melse\u001b[39;00m:\n\u001b[0;32m     <a href='vscode-notebook-cell:/d%3A/KSoft/advance_python_training_classes/Error_Handling/01.sample_except.ipynb#W0sZmlsZQ%3D%3D?line=17'>18</a>\u001b[0m     is_error_happened \u001b[39m=\u001b[39m \u001b[39mFalse\u001b[39;00m\n",
      "\u001b[1;31mIndexError\u001b[0m: error happens"
     ]
    }
   ],
   "source": [
    "students_of_Btech_Girls_brahmin = [\"Subhasri\",\"subhalaxmi\",\"Sibani\",\"ankita\",\"rajeswari\",\"farida begum\"]\n",
    "\n",
    "# for i in students_of_Btech_Girls_brahmin:\n",
    "#     print()\n",
    "\n",
    "# print(len(students_of_Btech_Girls_brahmin))\n",
    "# print(students_of_Btech_Girls_brahmin[6])\n",
    "is_error_happened:bool = False\n",
    "\n",
    "try:\n",
    "    print(students_of_Btech_Girls_brahmin[6])\n",
    "except IndexError as error:\n",
    "    print(error)\n",
    "    if error:\n",
    "        is_error_happened = True\n",
    "        raise IndexError('error happens')\n",
    "    else:\n",
    "        is_error_happened = False\n",
    "finally: \n",
    "    print('error happened' if is_error_happened else 'error not happened')\n",
    "\n"
   ]
  },
  {
   "cell_type": "code",
   "execution_count": 3,
   "metadata": {},
   "outputs": [
    {
     "name": "stdout",
     "output_type": "stream",
     "text": [
      "['Accenture', 'TCS', 'Cognizant', 'Wipro', 'Infosys']\n",
      "TCS\n",
      "Cognizant\n",
      "<class 'IndexError'> list index out of range\n",
      "finally runs every time\n"
     ]
    }
   ],
   "source": [
    "company = [\"Accenture\",\"TCS\",\"Cognizant\",\"Wipro\",\"Infosys\"]\n",
    "\n",
    "print(company)\n",
    "print(company[1])\n",
    "print(company[2])\n",
    "# print(company[5])\n",
    "\n",
    "try:\n",
    "    print(company[7])\n",
    "except BaseException as error:\n",
    "    print(error.__class__,error)\n",
    "finally:\n",
    "    print('finally runs every time')\n",
    "\n"
   ]
  },
  {
   "cell_type": "code",
   "execution_count": null,
   "metadata": {},
   "outputs": [],
   "source": [
    "class BaseExp:\n",
    "    name: str\n",
    "    age: float\n",
    "\n",
    "\n",
    "class Exep(BaseExp):\n",
    "    job: str\n",
    "    company: str\n",
    "\n",
    "\n",
    "class NameErr(Exep):\n",
    "    def names(self):\n",
    "        return self.name, self.age, self.job, self.company\n"
   ]
  },
  {
   "cell_type": "code",
   "execution_count": 28,
   "metadata": {},
   "outputs": [
    {
     "name": "stdout",
     "output_type": "stream",
     "text": [
      "list index out of range\n"
     ]
    }
   ],
   "source": [
    "company = [\"Accenture\", \"TCS\", \"Cognizant\", \"Wipro\", \"Infosys\"]\n",
    "\n",
    "def getOutput(data):\n",
    "    try:\n",
    "        return {\n",
    "            \"status\": 200,\n",
    "            \"success\": True,\n",
    "            \"data\": print(data)\n",
    "        }\n",
    "    except Exception as error:\n",
    "        raise IndexError('i am from except error')\n",
    "        # return {\n",
    "        #     \"status\": 400,\n",
    "        #     \"success\": False,\n",
    "        #     \"data\": print(error.__class__, error)\n",
    "        # }\n",
    "    finally:\n",
    "        return 'i am inside finally block i will run always'\n",
    "\n",
    "try:\n",
    "    getOutput(company[7])\n",
    "except IndexError as error:\n",
    "    print(error)\n",
    "else:\n",
    "    print('i am from else block')"
   ]
  }
 ],
 "metadata": {
  "kernelspec": {
   "display_name": "Python 3",
   "language": "python",
   "name": "python3"
  },
  "language_info": {
   "codemirror_mode": {
    "name": "ipython",
    "version": 3
   },
   "file_extension": ".py",
   "mimetype": "text/x-python",
   "name": "python",
   "nbconvert_exporter": "python",
   "pygments_lexer": "ipython3",
   "version": "3.10.4"
  },
  "orig_nbformat": 4,
  "vscode": {
   "interpreter": {
    "hash": "aef0ad5cd858520acf7a7a5e6810764bf6b17c229c37f21e929fa08adc6f6002"
   }
  }
 },
 "nbformat": 4,
 "nbformat_minor": 2
}
