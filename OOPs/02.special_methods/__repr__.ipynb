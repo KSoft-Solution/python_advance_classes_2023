{
 "cells": [
  {
   "cell_type": "code",
   "execution_count": 6,
   "metadata": {},
   "outputs": [
    {
     "ename": "SyntaxError",
     "evalue": "unterminated string literal (detected at line 12) (42462536.py, line 12)",
     "output_type": "error",
     "traceback": [
      "\u001b[1;36m  Input \u001b[1;32mIn [6]\u001b[1;36m\u001b[0m\n\u001b[1;33m    return fi am from __str__ function {self.name}'\u001b[0m\n\u001b[1;37m                                                  ^\u001b[0m\n\u001b[1;31mSyntaxError\u001b[0m\u001b[1;31m:\u001b[0m unterminated string literal (detected at line 12)\n"
     ]
    }
   ],
   "source": [
    "from pprint import pprint\n",
    "\n",
    "class About:\n",
    "    '''this is a about class'''\n",
    "    def __init__(self,name)->None :\n",
    "        self.name = name\n",
    "        \n",
    "    def getDetails(self,name):\n",
    "        return f'i am {name} {self.name}'\n",
    "\n",
    "    def __str__(self) -> str:\n",
    "        return fi am from __str__ function {self.name}'\n",
    "\n",
    "    def __repr__(self) -> str:\n",
    "        return f'i am from __repr__ function {self.name}'\n",
    "\n",
    "about = About('ashok sahu');\n",
    "# print(About.getDetails('ashok sahu'))\n",
    "print(about.getDetails('kanha sahu'))\n",
    "\n",
    "print(str(about))\n",
    "print(repr(about))\n",
    "\n",
    "print(About.__name__)\n",
    "print(About.__doc__)\n",
    "print(About.__module__)\n",
    "print(About.__weakref__)\n",
    "pprint(About.__dict__)\n",
    "\n"
   ]
  }
 ],
 "metadata": {
  "kernelspec": {
   "display_name": "Python 3",
   "language": "python",
   "name": "python3"
  },
  "language_info": {
   "codemirror_mode": {
    "name": "ipython",
    "version": 3
   },
   "file_extension": ".py",
   "mimetype": "text/x-python",
   "name": "python",
   "nbconvert_exporter": "python",
   "pygments_lexer": "ipython3",
   "version": "3.10.4"
  },
  "orig_nbformat": 4,
  "vscode": {
   "interpreter": {
    "hash": "aef0ad5cd858520acf7a7a5e6810764bf6b17c229c37f21e929fa08adc6f6002"
   }
  }
 },
 "nbformat": 4,
 "nbformat_minor": 2
}
