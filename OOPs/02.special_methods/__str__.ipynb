{
 "cells": [
  {
   "cell_type": "code",
   "execution_count": 25,
   "metadata": {},
   "outputs": [
    {
     "name": "stdout",
     "output_type": "stream",
     "text": [
      "i am kanha sahu ashok sahu\n",
      "my msndamddjsv dal is ashok sahu\n",
      "About\n",
      "this is a about class\n",
      "__main__\n",
      "<attribute '__weakref__' of 'About' objects>\n",
      "mappingproxy({'__dict__': <attribute '__dict__' of 'About' objects>,\n",
      "              '__doc__': 'this is a about class',\n",
      "              '__init__': <function About.__init__ at 0x0000011E18BF5C60>,\n",
      "              '__module__': '__main__',\n",
      "              '__str__': <function About.__str__ at 0x0000011E18BF5360>,\n",
      "              '__weakref__': <attribute '__weakref__' of 'About' objects>,\n",
      "              'getDetails': <function About.getDetails at 0x0000011E18BF5990>})\n"
     ]
    }
   ],
   "source": [
    "from pprint import pprint\n",
    "\n",
    "class About:\n",
    "    \"\"\"this is a about class\"\"\"\n",
    "\n",
    "\n",
    "    def __init__(self,name)->None :\n",
    "        self.name = name\n",
    "        \n",
    "    def getDetails(self,name):\n",
    "        return f'i am {name} {self.name}'\n",
    "\n",
    "    def __str__(self) -> str:\n",
    "        return f'my name is {self.name}'\n",
    "\n",
    "    def __str__(self) -> str:\n",
    "        return f'my msndamddjsv dal is {self.name}'\n",
    "\n",
    "        \n",
    "\n",
    "\n",
    "about = About('ashok sahu');\n",
    "# print(About.getDetails('ashok sahu'))\n",
    "print(about.getDetails('kanha sahu'))\n",
    "\n",
    "print(str(about))\n",
    "\n",
    "print(About.__name__)\n",
    "print(About.__doc__)\n",
    "print(About.__module__)\n",
    "print(About.__weakref__)\n",
    "pprint(About.__dict__)\n",
    "\n"
   ]
  }
 ],
 "metadata": {
  "kernelspec": {
   "display_name": "Python 3",
   "language": "python",
   "name": "python3"
  },
  "language_info": {
   "codemirror_mode": {
    "name": "ipython",
    "version": 3
   },
   "file_extension": ".py",
   "mimetype": "text/x-python",
   "name": "python",
   "nbconvert_exporter": "python",
   "pygments_lexer": "ipython3",
   "version": "3.10.4"
  },
  "orig_nbformat": 4,
  "vscode": {
   "interpreter": {
    "hash": "aef0ad5cd858520acf7a7a5e6810764bf6b17c229c37f21e929fa08adc6f6002"
   }
  }
 },
 "nbformat": 4,
 "nbformat_minor": 2
}
