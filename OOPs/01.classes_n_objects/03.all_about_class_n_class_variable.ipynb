{
 "cells": [
  {
   "cell_type": "code",
   "execution_count": null,
   "metadata": {},
   "outputs": [],
   "source": [
    "oops\n",
    "\n",
    "1.object\n",
    "2.class\n",
    "3.instance\n",
    "4.constructor\n",
    "5.method\n",
    "6.__init__\n",
    "7.self\n",
    "8.set_attr\n",
    "9.get_attr\n",
    "10.delete_attr"
   ]
  },
  {
   "cell_type": "code",
   "execution_count": 27,
   "metadata": {},
   "outputs": [
    {
     "name": "stdout",
     "output_type": "stream",
     "text": [
      "i am inside class variable\n",
      "I AM OUTSIDE CLASS VARIABLE\n",
      "I am a capitalized variable\n",
      "Ashok Sahu\n",
      "28\n",
      "Ashok Sahu\n",
      "28\n",
      "Software developer\n",
      "TCS\n",
      "Software developer\n",
      "MSc. in Biotech\n",
      "Software developer\n",
      "{'inside_class': 'I am inside class variable', 'strg': 'i am a capitalized variable', 'job': 'Software developer', 'education': 'MSc. in Biotech'}\n"
     ]
    }
   ],
   "source": [
    "outside_class = 'I am outside class variable'\n",
    "\n",
    "class Str:\n",
    "    my_name = 'Ashok Sahu'\n",
    "    age = 28\n",
    "\n",
    "    # instance\n",
    "    def __init__(self,strg)  :\n",
    "        self.inside_class = 'I am inside class variable'\n",
    "        self.strg = strg\n",
    "\n",
    "    # methods    \n",
    "    def upper(self):\n",
    "        return outside_class.upper()\n",
    "    def lower(self):\n",
    "        return self.inside_class.lower()\n",
    "    def capitalize(self):\n",
    "        return self.strg.capitalize()\n",
    "\n",
    "# constructor\n",
    "string = Str('i am a capitalized variable')\n",
    "\n",
    "print(string.lower())\n",
    "print(string.upper())\n",
    "print(string.capitalize())\n",
    "\n",
    "print(string.my_name)\n",
    "print(string.age)\n",
    "print(string.__getattribute__('my_name'))\n",
    "print(getattr(string,'age'))\n",
    "\n",
    "\n",
    "string.job = 'Software developer'\n",
    "string.__setattr__('company','TCS') \n",
    "string.__dict__[\"education\"] = 'MSc. in Biotech' # to set the attributes inside the class\n",
    "print(string.job)\n",
    "print(string.__getattribute__('company'))\n",
    "print(string.__dict__[\"job\"])\n",
    "print(string.__getattribute__('education'))\n",
    "\n",
    "string.__delattr__('company')\n",
    "# print(string.company)\n",
    "# del string.job\n",
    "print(string.job)\n",
    "\n",
    "\n",
    "# print(Str.upper())\n",
    "# print(Str.lower())\n",
    "# print(type(Str))\n",
    "\n",
    "\n",
    "print(string.__dict__) # to get all the attributes inside the class"
   ]
  },
  {
   "cell_type": "code",
   "execution_count": 31,
   "metadata": {},
   "outputs": [
    {
     "name": "stdout",
     "output_type": "stream",
     "text": [
      "__main__\n",
      "MyProfile\n"
     ]
    }
   ],
   "source": [
    "print(__name__)\n",
    "\n",
    "class MyProfile:\n",
    "    def __init__(self,name,age,job):\n",
    "        self.name = name\n",
    "        self.age = age\n",
    "        self.job = job\n",
    "    def getDetail(self):\n",
    "        return f'i am {self.name}'\n",
    "\n",
    "\n",
    "profile = MyProfile('ashok sahu',28,'software engineer')\n",
    "print(MyProfile.__name__)\n",
    "        "
   ]
  },
  {
   "attachments": {},
   "cell_type": "markdown",
   "metadata": {},
   "source": [
    "OOP's\n",
    "\n",
    "1.Abstraction\n",
    "2.Encapsulation\n",
    "3.polymorphism\n",
    "4.Inheritance"
   ]
  }
 ],
 "metadata": {
  "kernelspec": {
   "display_name": "Python 3",
   "language": "python",
   "name": "python3"
  },
  "language_info": {
   "codemirror_mode": {
    "name": "ipython",
    "version": 3
   },
   "file_extension": ".py",
   "mimetype": "text/x-python",
   "name": "python",
   "nbconvert_exporter": "python",
   "pygments_lexer": "ipython3",
   "version": "3.10.4"
  },
  "orig_nbformat": 4,
  "vscode": {
   "interpreter": {
    "hash": "aef0ad5cd858520acf7a7a5e6810764bf6b17c229c37f21e929fa08adc6f6002"
   }
  }
 },
 "nbformat": 4,
 "nbformat_minor": 2
}
