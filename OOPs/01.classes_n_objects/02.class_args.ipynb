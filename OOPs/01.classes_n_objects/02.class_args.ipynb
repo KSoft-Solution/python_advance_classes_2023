{
 "cells": [
  {
   "cell_type": "code",
   "execution_count": 20,
   "metadata": {},
   "outputs": [
    {
     "name": "stdout",
     "output_type": "stream",
     "text": [
      "['h', 'k']\n"
     ]
    }
   ],
   "source": [
    "class KSoft:\n",
    "    year = 2023\n",
    "    def __init__(self,name):\n",
    "        self.start = 2023\n",
    "        self.ashok = name\n",
    "    def getStudentss(self):\n",
    "        studentss = ['h','k']\n",
    "        return studentss\n",
    "\n",
    "students = KSoft('ashok sahu')\n",
    "print(students.getStudentss())"
   ]
  },
  {
   "cell_type": "code",
   "execution_count": 35,
   "metadata": {},
   "outputs": [
    {
     "name": "stdout",
     "output_type": "stream",
     "text": [
      "sum of 20 + 10 = 30\n",
      "substraction of 20 - 10 = 10\n",
      "multiple of 20 x 10 = 200\n",
      "division of 20 / 10 = 2.0\n"
     ]
    }
   ],
   "source": [
    "class Calculator:\n",
    "    def __init__(self,num1:int,num2:int):\n",
    "        self.num_1 = num1\n",
    "        self.num_2 = num2\n",
    "    def addition(self):\n",
    "        return f'sum of {self.num_1} + {self.num_2} = {self.num_1+self.num_2}'\n",
    "    def substraction(self)->str:\n",
    "        return f'substraction of {self.num_1} - {self.num_2} = {self.num_1-self.num_2}'\n",
    "    def multiplication(self)->str:\n",
    "        return f'multiple of {self.num_1} x {self.num_2} = {self.num_1*self.num_2}'\n",
    "    def division(self)->str:\n",
    "        return f'division of {self.num_1} / {self.num_2} = {self.num_1/self.num_2}'\n",
    "\n",
    "calc = Calculator(20,10)\n",
    "print(calc.addition())\n",
    "print(calc.substraction())\n",
    "print(calc.multiplication())\n",
    "print(calc.division())\n"
   ]
  },
  {
   "cell_type": "code",
   "execution_count": null,
   "metadata": {},
   "outputs": [],
   "source": []
  }
 ],
 "metadata": {
  "kernelspec": {
   "display_name": "Python 3",
   "language": "python",
   "name": "python3"
  },
  "language_info": {
   "codemirror_mode": {
    "name": "ipython",
    "version": 3
   },
   "file_extension": ".py",
   "mimetype": "text/x-python",
   "name": "python",
   "nbconvert_exporter": "python",
   "pygments_lexer": "ipython3",
   "version": "3.10.4"
  },
  "orig_nbformat": 4,
  "vscode": {
   "interpreter": {
    "hash": "aef0ad5cd858520acf7a7a5e6810764bf6b17c229c37f21e929fa08adc6f6002"
   }
  }
 },
 "nbformat": 4,
 "nbformat_minor": 2
}
