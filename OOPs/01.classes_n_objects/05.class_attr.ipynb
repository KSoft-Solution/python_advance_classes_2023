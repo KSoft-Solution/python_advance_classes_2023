{
 "cells": [
  {
   "cell_type": "code",
   "execution_count": 17,
   "metadata": {},
   "outputs": [
    {
     "name": "stdout",
     "output_type": "stream",
     "text": [
      "3.141\n",
      "3.141\n"
     ]
    }
   ],
   "source": [
    "class Circle:\n",
    "\n",
    "    #class attribute\n",
    "    PII = 3.141\n",
    "\n",
    "    #instance attribute\n",
    "    def __init__(self, radius):\n",
    "        # self.pi = 3.141\n",
    "        self.radius = radius\n",
    "\n",
    "    #instance methods\n",
    "    def area(self):\n",
    "        return self.pi * self.radius**2\n",
    "\n",
    "    def circumference(self):\n",
    "        return 2*self.pi * self.radius\n",
    "\n",
    "\n",
    "\n",
    "circle = Circle(2)\n",
    "print(circle.PII)\n",
    "print(circle.pI)\n",
    "# print(circle.area())"
   ]
  },
  {
   "cell_type": "code",
   "execution_count": 24,
   "metadata": {},
   "outputs": [
    {
     "name": "stdout",
     "output_type": "stream",
     "text": [
      "12.564\n",
      "3.141\n"
     ]
    },
    {
     "ename": "AttributeError",
     "evalue": "type object 'Circle' has no attribute 'pi'",
     "output_type": "error",
     "traceback": [
      "\u001b[1;31m---------------------------------------------------------------------------\u001b[0m",
      "\u001b[1;31mAttributeError\u001b[0m                            Traceback (most recent call last)",
      "\u001b[1;32md:\\KSoft\\advance_python_training_classes\\05.class_attr.ipynb Cell 2\u001b[0m in \u001b[0;36m<cell line: 29>\u001b[1;34m()\u001b[0m\n\u001b[0;32m     <a href='vscode-notebook-cell:/d%3A/KSoft/advance_python_training_classes/05.class_attr.ipynb#W2sZmlsZQ%3D%3D?line=24'>25</a>\u001b[0m \u001b[39m# print(Circle.pi)\u001b[39;00m\n\u001b[0;32m     <a href='vscode-notebook-cell:/d%3A/KSoft/advance_python_training_classes/05.class_attr.ipynb#W2sZmlsZQ%3D%3D?line=25'>26</a>\u001b[0m \u001b[39m# print(circle.pi)\u001b[39;00m\n\u001b[0;32m     <a href='vscode-notebook-cell:/d%3A/KSoft/advance_python_training_classes/05.class_attr.ipynb#W2sZmlsZQ%3D%3D?line=27'>28</a>\u001b[0m \u001b[39mprint\u001b[39m(Circle\u001b[39m.\u001b[39mPII)\n\u001b[1;32m---> <a href='vscode-notebook-cell:/d%3A/KSoft/advance_python_training_classes/05.class_attr.ipynb#W2sZmlsZQ%3D%3D?line=28'>29</a>\u001b[0m \u001b[39mprint\u001b[39m(Circle\u001b[39m.\u001b[39;49mpi)\n",
      "\u001b[1;31mAttributeError\u001b[0m: type object 'Circle' has no attribute 'pi'"
     ]
    }
   ],
   "source": [
    "class Circle:\n",
    "\n",
    "    #class attribute\n",
    "    PII = 3.141\n",
    "\n",
    "    #instance attribute\n",
    "    def __init__(self, radius):\n",
    "        self.pi = 3.141\n",
    "        self.radius = radius\n",
    "\n",
    "    #instance methods\n",
    "    def area(self):\n",
    "        return self.PII * self.radius**2\n",
    "\n",
    "    def circumference(self):\n",
    "        return 2*self.PII * self.radius\n",
    "\n",
    "\n",
    "circle = Circle(2)\n",
    "# print(circle.PII)\n",
    "print(circle.area())\n",
    "\n",
    "\n",
    "print(Circle.pi)\n",
    "print(circle.pi)\n",
    "\n",
    "print(Circle.PII)\n",
    "print(Circle.pi)"
   ]
  }
 ],
 "metadata": {
  "kernelspec": {
   "display_name": "Python 3",
   "language": "python",
   "name": "python3"
  },
  "language_info": {
   "codemirror_mode": {
    "name": "ipython",
    "version": 3
   },
   "file_extension": ".py",
   "mimetype": "text/x-python",
   "name": "python",
   "nbconvert_exporter": "python",
   "pygments_lexer": "ipython3",
   "version": "3.10.4 (tags/v3.10.4:9d38120, Mar 23 2022, 23:13:41) [MSC v.1929 64 bit (AMD64)]"
  },
  "orig_nbformat": 4,
  "vscode": {
   "interpreter": {
    "hash": "aef0ad5cd858520acf7a7a5e6810764bf6b17c229c37f21e929fa08adc6f6002"
   }
  }
 },
 "nbformat": 4,
 "nbformat_minor": 2
}
