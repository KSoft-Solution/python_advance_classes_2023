{
 "cells": [
  {
   "cell_type": "code",
   "execution_count": 16,
   "metadata": {},
   "outputs": [
    {
     "name": "stdout",
     "output_type": "stream",
     "text": [
      "2015789169472\n",
      "2015788835616\n",
      "<class 'str'>\n",
      "<class 'function'>\n",
      "i am a normal asubha\n",
      "asubha\n",
      "i m outside variable\n",
      "I m outside variable\n"
     ]
    }
   ],
   "source": [
    "outside = \"i m outside variable\"\n",
    "\n",
    "def asubha():\n",
    "    return \"i am a normal asubha\"\n",
    "\n",
    "\n",
    "print(id(outside))\n",
    "print(id(asubha))\n",
    "print(type(outside))\n",
    "print(type(asubha))\n",
    "\n",
    "\n",
    "print(asubha())\n",
    "print(asubha.__name__)\n",
    "print(outside)\n",
    "print(outside.capitalize())"
   ]
  },
  {
   "cell_type": "code",
   "execution_count": 22,
   "metadata": {},
   "outputs": [
    {
     "name": "stdout",
     "output_type": "stream",
     "text": [
      "<__main__.profile_one object at 0x000001D5567D2F50>\n",
      "2015790706512\n",
      "0x1d5566a0430\n",
      "2015789454416\n",
      "True\n",
      "<class 'type'>\n",
      "profile_one\n",
      "<__main__.profile_one object at 0x000001D5567D2740>\n",
      "2015790704448\n",
      "0x1d5566a0430\n",
      "2015789454416\n",
      "True\n",
      "<class 'type'>\n",
      "profile_one\n"
     ]
    }
   ],
   "source": [
    "class profile_one:\n",
    "    munda = \"bada munda\"\n",
    "    def work():\n",
    "        return \"gandu ra munda bada munda\"\n",
    "\n",
    "# print(profile_one.munda)\n",
    "# print(profile_one.work())\n",
    "\n",
    "ashok = profile_one()\n",
    "gopal = profile_one()\n",
    "print(ashok)\n",
    "print(id(ashok))\n",
    "print(hex(2015789450288))\n",
    "print(int(0x000001D5566A1450))\n",
    "\n",
    "print(isinstance(ashok,profile_one))\n",
    "print(type(profile_one))\n",
    "print(profile_one.__name__)\n",
    "\n",
    "print(gopal)\n",
    "print(id(gopal))\n",
    "print(hex(2015789450288))\n",
    "print(int(0x000001D5566A1450))\n",
    "\n",
    "print(isinstance(gopal,profile_one))\n",
    "print(type(profile_one))\n",
    "print(profile_one.__name__)\n",
    "\n",
    "\n",
    "\n"
   ]
  },
  {
   "cell_type": "code",
   "execution_count": 23,
   "metadata": {},
   "outputs": [
    {
     "name": "stdout",
     "output_type": "stream",
     "text": [
      "i am ashok sahu and i am a system engineer at TCS bhubaneswar\n",
      "i am gopal krishna sahu and i am a software engineer at zensar technology hyderabad\n"
     ]
    }
   ],
   "source": [
    "def profile(**args):\n",
    "    return f'i am {args.get(\"name\")} and i am a {args.get(\"job\")} at {args.get(\"company\")} {args.get(\"location\")}'\n",
    "\n",
    "\n",
    "ashok = profile(name='ashok sahu',job='system engineer',company='TCS',location='bhubaneswar')\n",
    "gopal = profile(name='gopal krishna sahu',job='software engineer',company='zensar technology',location='hyderabad')\n",
    "\n",
    "print(ashok)\n",
    "print(gopal)\n",
    "\n",
    "# print(isinstance(ashok,profile))"
   ]
  },
  {
   "cell_type": "code",
   "execution_count": 33,
   "metadata": {},
   "outputs": [
    {
     "name": "stdout",
     "output_type": "stream",
     "text": [
      "moro name hauchi subha\n",
      "<function asubha.moro_bad_name at 0x000001D5581D2320>\n"
     ]
    }
   ],
   "source": [
    "class asubha:\n",
    "    mo_naa = 'moro name hauchi subha'\n",
    "    def moro_bad_name():\n",
    "        return 'but mu hauchi asubha'\n",
    "\n",
    "name = getattr(asubha,\"mo_naa\")\n",
    "bad_name = getattr(asubha,\"moro_bad_name\")\n",
    "print(name)\n",
    "print(bad_name)\n",
    "\n",
    "# print(asubha.mo_naa)\n",
    "# print(asubha.moro_bad_name())\n",
    "# print(asubha.eithi_nai_moro_name)\n"
   ]
  }
 ],
 "metadata": {
  "kernelspec": {
   "display_name": "Python 3",
   "language": "python",
   "name": "python3"
  },
  "language_info": {
   "codemirror_mode": {
    "name": "ipython",
    "version": 3
   },
   "file_extension": ".py",
   "mimetype": "text/x-python",
   "name": "python",
   "nbconvert_exporter": "python",
   "pygments_lexer": "ipython3",
   "version": "3.10.4 (tags/v3.10.4:9d38120, Mar 23 2022, 23:13:41) [MSC v.1929 64 bit (AMD64)]"
  },
  "orig_nbformat": 4,
  "vscode": {
   "interpreter": {
    "hash": "aef0ad5cd858520acf7a7a5e6810764bf6b17c229c37f21e929fa08adc6f6002"
   }
  }
 },
 "nbformat": 4,
 "nbformat_minor": 2
}
