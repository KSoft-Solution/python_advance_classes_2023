{
 "cells": [
  {
   "cell_type": "code",
   "execution_count": 3,
   "metadata": {},
   "outputs": [
    {
     "name": "stdout",
     "output_type": "stream",
     "text": [
      "about the detail m i ashok Sahu & 29\n",
      "about the detail m i Kanha Sahu & 28\n"
     ]
    }
   ],
   "source": [
    "class About:\n",
    "    # instance attributes\n",
    "    def __init__(self,name,age):\n",
    "        self._name = name\n",
    "        self._age = age\n",
    "    \n",
    "\n",
    "    # instance methods\n",
    "    def get_details(self):\n",
    "        return f'about the detail m i {self._name} & {self._age}'\n",
    "\n",
    "# creating a constructor\n",
    "ashok = About(name=\"ashok Sahu\",age=29)\n",
    "kanha = About(name='Kanha Sahu',age=28)\n",
    "\n",
    "ashok.age = 30\n",
    "ashok.name = 'raj'\n",
    "\n",
    "print(ashok.get_details())\n",
    "print(kanha.get_details())\n"
   ]
  },
  {
   "cell_type": "code",
   "execution_count": 9,
   "metadata": {},
   "outputs": [
    {
     "name": "stdout",
     "output_type": "stream",
     "text": [
      "i m  34 28\n"
     ]
    }
   ],
   "source": [
    "class About:\n",
    "    # instance attributes\n",
    "    def __init__(self,name,age):\n",
    "        self._name = name\n",
    "        self._age = age\n",
    "        # self.set_age(age)\n",
    "    \n",
    "    def set_age(self,age):\n",
    "        return f'i m  {age} {self._age}'\n",
    "    \n",
    "\n",
    "    # instance methods\n",
    "    def get_details(self):\n",
    "        return f'about the detail m i {self._name} & {self._age}'\n",
    "\n",
    "# creating a constructor\n",
    "ashok = About('ashok sahu',28)\n",
    "# ashok.set_age(34)\n",
    "\n",
    "print(ashok.set_age(34))\n"
   ]
  },
  {
   "cell_type": "code",
   "execution_count": 31,
   "metadata": {},
   "outputs": [
    {
     "name": "stdout",
     "output_type": "stream",
     "text": [
      "<property object at 0x00000174D05B4220>\n",
      "12\n",
      "{'_Student__ages': 12, '_Student__names': 'alekha balo pila'}\n",
      "mappingproxy({'__dict__': <attribute '__dict__' of 'Student' objects>,\n",
      "              '__doc__': None,\n",
      "              '__init__': <function Student.__init__ at 0x00000174D21652D0>,\n",
      "              '__module__': '__main__',\n",
      "              '__weakref__': <attribute '__weakref__' of 'Student' objects>,\n",
      "              'ages': <property object at 0x00000174D05B4220>,\n",
      "              'get_age': <function Student.get_age at 0x00000174D2165360>,\n",
      "              'get_name': <function Student.get_name at 0x00000174D21656C0>,\n",
      "              'names': <property object at 0x00000174D207DF80>,\n",
      "              'set_age': <function Student.set_age at 0x00000174D2165240>,\n",
      "              'set_name': <function Student.set_name at 0x00000174D2164EE0>})\n"
     ]
    }
   ],
   "source": [
    "from pprint import pprint\n",
    "\n",
    "class Student:\n",
    "    def __init__(self,name,age) :\n",
    "        self.__ages = age\n",
    "        self.__names = name\n",
    "    \n",
    "    def set_age(self,age):\n",
    "        if not age:\n",
    "            raise ValueError('age is required!')\n",
    "        else:\n",
    "            self.__ages = age\n",
    "\n",
    "    def get_age(self):\n",
    "        return self.__ages\n",
    "\n",
    "    def set_name(self,name):\n",
    "        if not name:\n",
    "            raise ValueError('name is required!')\n",
    "        else:\n",
    "            self.__names = name\n",
    "\n",
    "    def get_name(self):\n",
    "        return self.__names\n",
    "    \n",
    "\n",
    "    ages = property(fset=set_age,fget=get_age)\n",
    "    names = property(fset=set_name,fget=get_name)\n",
    "\n",
    "alekha = Student(name='alekha nayak',age=23)\n",
    "alekha.ages = 12\n",
    "alekha.names = 'alekha balo pila'\n",
    "\n",
    "print(Student.ages)\n",
    "print(alekha.ages)\n",
    "\n",
    "pprint(alekha.__dict__)\n",
    "pprint(Student.__dict__)"
   ]
  }
 ],
 "metadata": {
  "kernelspec": {
   "display_name": "Python 3",
   "language": "python",
   "name": "python3"
  },
  "language_info": {
   "codemirror_mode": {
    "name": "ipython",
    "version": 3
   },
   "file_extension": ".py",
   "mimetype": "text/x-python",
   "name": "python",
   "nbconvert_exporter": "python",
   "pygments_lexer": "ipython3",
   "version": "3.10.4"
  },
  "orig_nbformat": 4,
  "vscode": {
   "interpreter": {
    "hash": "aef0ad5cd858520acf7a7a5e6810764bf6b17c229c37f21e929fa08adc6f6002"
   }
  }
 },
 "nbformat": 4,
 "nbformat_minor": 2
}
