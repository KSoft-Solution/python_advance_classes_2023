{
 "cells": [
  {
   "cell_type": "code",
   "execution_count": 16,
   "metadata": {},
   "outputs": [
    {
     "name": "stdout",
     "output_type": "stream",
     "text": [
      "True\n",
      "asubha\n",
      "mu hauchi sahala bayashi kakudi kassi ankita panigrahi cheppii and moro koko pila hauchi khusi and moro tiki pila hauchi ramnath\n",
      "{'name': 'khusi'}\n",
      "mappingproxy({'__dict__': <attribute '__dict__' of 'Subha' objects>,\n",
      "              '__doc__': None,\n",
      "              '__init__': <function Subha.__init__ at 0x00000158138ABD90>,\n",
      "              '__module__': '__main__',\n",
      "              '__weakref__': <attribute '__weakref__' of 'Subha' objects>,\n",
      "              'age': 20,\n",
      "              'getFaltu_things_about_me': <function Subha.getFaltu_things_about_me at 0x00000158139C40D0>,\n",
      "              'getName': <function Subha.getName at 0x00000158139C4040>,\n",
      "              'mo_bag_name': 'pithi re pakaiba bag',\n",
      "              'mo_bhai_name': 'ramanath',\n",
      "              'mo_bhauni_name': 'khusi',\n",
      "              'mo_college_name': 'Roland nai lo maa.',\n",
      "              'moro_best_dusman': 'ankita panigrahi cheppii',\n",
      "              'moro_best_sanga': 'kiti bayani',\n",
      "              'moro_goji_naki': 'subhalaxmi patro',\n",
      "              'village': 'chikiti dhanaghara'})\n"
     ]
    }
   ],
   "source": [
    "from pprint import pprint\n",
    "\n",
    "global_access = 'asubha'\n",
    "\n",
    "class Subha:\n",
    "    # class instance\n",
    "    age = 20\n",
    "    village = 'chikiti dhanaghara'\n",
    "    mo_bhai_name = 'ramanath'\n",
    "    mo_bhauni_name = 'khusi'\n",
    "    mo_bag_name = 'pithi re pakaiba bag'\n",
    "    mo_college_name = 'Roland nai lo maa.'\n",
    "    moro_best_sanga = 'kiti bayani'\n",
    "    moro_best_dusman = 'ankita panigrahi cheppii'\n",
    "    moro_goji_naki = 'subhalaxmi patro'\n",
    "\n",
    "    # instance attributes\n",
    "    def __init__(self,name:str) :\n",
    "        self.name = name\n",
    "\n",
    "    # instance methods\n",
    "    def getName():\n",
    "        return global_access\n",
    "\n",
    "    # instance methods\n",
    "    def getFaltu_things_about_me(self,bhai):\n",
    "        return f'mu hauchi sahala bayashi kakudi kassi {self.moro_best_dusman} and moro koko pila hauchi {self.name} and moro tiki pila hauchi {bhai}'\n",
    "\n",
    "\n",
    "subha = Subha('khusi')\n",
    "\n",
    "print(isinstance(subha,Subha))\n",
    "\n",
    "print(Subha.getName())\n",
    "print(subha.getFaltu_things_about_me(bhai='ramnath'))\n",
    "\n",
    "print(subha.__dict__)\n",
    "pprint(Subha.__dict__)\n",
    "\n",
    "\n",
    "\n"
   ]
  },
  {
   "cell_type": "code",
   "execution_count": 3,
   "metadata": {},
   "outputs": [
    {
     "name": "stdout",
     "output_type": "stream",
     "text": [
      "<property object at 0x0000015811D41A30>\n",
      "{'_age': 18, 'name': 'John'}\n",
      "mappingproxy({'__dict__': <attribute '__dict__' of 'Person' objects>,\n",
      "              '__doc__': None,\n",
      "              '__init__': <function Person.__init__ at 0x0000015811D8C790>,\n",
      "              '__module__': '__main__',\n",
      "              '__weakref__': <attribute '__weakref__' of 'Person' objects>,\n",
      "              'age': <property object at 0x0000015811D41A30>,\n",
      "              'get_age': <function Person.get_age at 0x0000015811D8C8B0>,\n",
      "              'set_age': <function Person.set_age at 0x0000015811D8C820>})\n"
     ]
    }
   ],
   "source": [
    "from pprint import pprint\n",
    "\n",
    "\n",
    "class Person:\n",
    "    def __init__(self, name, age):\n",
    "        self.name = name\n",
    "        self.age = age\n",
    "\n",
    "    def set_age(self, age):\n",
    "        if age <= 0:\n",
    "            raise ValueError('The age must be positive')\n",
    "        self._age = age\n",
    "\n",
    "    def get_age(self):\n",
    "        return self._age\n",
    "\n",
    "    age = property(fget=get_age, fset=set_age)\n",
    "\n",
    "\n",
    "print(Person.age)\n",
    "\n",
    "john = Person('John', 18)\n",
    "pprint(john.__dict__)\n",
    "\n",
    "john.age = 19\n",
    "pprint(Person.__dict__)"
   ]
  }
 ],
 "metadata": {
  "kernelspec": {
   "display_name": "Python 3",
   "language": "python",
   "name": "python3"
  },
  "language_info": {
   "codemirror_mode": {
    "name": "ipython",
    "version": 3
   },
   "file_extension": ".py",
   "mimetype": "text/x-python",
   "name": "python",
   "nbconvert_exporter": "python",
   "pygments_lexer": "ipython3",
   "version": "3.10.4 (tags/v3.10.4:9d38120, Mar 23 2022, 23:13:41) [MSC v.1929 64 bit (AMD64)]"
  },
  "orig_nbformat": 4,
  "vscode": {
   "interpreter": {
    "hash": "aef0ad5cd858520acf7a7a5e6810764bf6b17c229c37f21e929fa08adc6f6002"
   }
  }
 },
 "nbformat": 4,
 "nbformat_minor": 2
}
