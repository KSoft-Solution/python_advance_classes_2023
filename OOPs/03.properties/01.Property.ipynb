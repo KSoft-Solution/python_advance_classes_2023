{
 "cells": [
  {
   "attachments": {},
   "cell_type": "markdown",
   "metadata": {},
   "source": [
    "<h1 style='color:\"red\"'>__str__</h1>"
   ]
  },
  {
   "cell_type": "code",
   "execution_count": 6,
   "metadata": {},
   "outputs": [
    {
     "name": "stdout",
     "output_type": "stream",
     "text": [
      "True\n",
      "<__main__.Profile object at 0x0000026DEECC5840>\n",
      "<class '__main__.Profile'>\n",
      "{'name': 'Ashok Sahu', 'age': 28}\n",
      "mappingproxy({'__dict__': <attribute '__dict__' of 'Profile' objects>,\n",
      "              '__doc__': None,\n",
      "              '__init__': <function Profile.__init__ at 0x0000026DF05548B0>,\n",
      "              '__module__': '__main__',\n",
      "              '__weakref__': <attribute '__weakref__' of 'Profile' objects>,\n",
      "              'get_details': <function Profile.get_details at 0x0000026DF05543A0>})\n"
     ]
    }
   ],
   "source": [
    "from pprint import pprint \n",
    "\n",
    "class Profile:\n",
    "    def __init__(self,name,age) :\n",
    "        self.name = name\n",
    "        self.age = age\n",
    "    \n",
    "    def get_details(self):\n",
    "        return f'i am {self.name} and i am {self.age} years old'\n",
    "    \n",
    "\n",
    "profile = Profile(name=\"Ashok Sahu\",age=28)\n",
    "print(isinstance(profile,Profile))\n",
    "print(profile)\n",
    "print(Profile)\n",
    "\n",
    "print(profile.__dict__)\n",
    "pprint(Profile.__dict__)\n",
    "# print(profile.get_details())"
   ]
  },
  {
   "cell_type": "code",
   "execution_count": 9,
   "metadata": {},
   "outputs": [
    {
     "name": "stdout",
     "output_type": "stream",
     "text": [
      "True\n",
      "mandu ra details hauchi Sweety and 23\n",
      "<class '__main__.Profile'>\n",
      "{'name': 'Sweety', 'age': 23}\n",
      "mappingproxy({'__dict__': <attribute '__dict__' of 'Profile' objects>,\n",
      "              '__doc__': None,\n",
      "              '__init__': <function Profile.__init__ at 0x0000026DEEA5C8B0>,\n",
      "              '__module__': '__main__',\n",
      "              '__str__': <function Profile.__str__ at 0x0000026DF0554040>,\n",
      "              '__weakref__': <attribute '__weakref__' of 'Profile' objects>})\n"
     ]
    }
   ],
   "source": [
    "from pprint import pprint \n",
    "\n",
    "class Profile:\n",
    "    def __init__(self,name,age) :\n",
    "        self.name = name\n",
    "        self.age = age\n",
    "    \n",
    "    def __str__(self):\n",
    "        return f'mandu ra details hauchi {self.name} and {self.age}'\n",
    "\n",
    "    # def get_details(self):\n",
    "    #     return f'i am {self.name} and i am {self.age} years old'\n",
    "    \n",
    "\n",
    "profile = Profile(name=\"Sweety\",age=23)\n",
    "print(isinstance(profile,Profile))\n",
    "print(profile)\n",
    "print(Profile)\n",
    "\n",
    "print(profile.__dict__)\n",
    "pprint(Profile.__dict__)\n",
    "# print(profile.get_details())"
   ]
  },
  {
   "attachments": {},
   "cell_type": "markdown",
   "metadata": {},
   "source": [
    "<h1>__repr__</h1>"
   ]
  },
  {
   "cell_type": "code",
   "execution_count": 13,
   "metadata": {},
   "outputs": [
    {
     "name": "stdout",
     "output_type": "stream",
     "text": [
      "mandu ra details hauchi Suba  rata  gandu and 5\n",
      "<class '__main__.Profile'>\n",
      "gandu ra details hauchi Suba  rata  gandu and 5\n"
     ]
    }
   ],
   "source": [
    "from pprint import pprint \n",
    "\n",
    "class Profile:\n",
    "    def __init__(self,name,age) :\n",
    "        self.name = name\n",
    "        self.age = age\n",
    "    \n",
    "    def __repr__(self):#dunder method\n",
    "        return f'gandu ra details hauchi {self.name} and {self.age}'\n",
    "    \n",
    "    def __str__(self):#dunder method\n",
    "        return f'mandu ra details hauchi {self.name} and {self.age}'\n",
    "\n",
    "\n",
    "profile = Profile(name=\"Suba  rata  gandu\",age=5)\n",
    "print(profile)\n",
    "print(Profile)\n",
    "\n",
    "print(repr(profile))\n"
   ]
  }
 ],
 "metadata": {
  "kernelspec": {
   "display_name": "Python 3",
   "language": "python",
   "name": "python3"
  },
  "language_info": {
   "codemirror_mode": {
    "name": "ipython",
    "version": 3
   },
   "file_extension": ".py",
   "mimetype": "text/x-python",
   "name": "python",
   "nbconvert_exporter": "python",
   "pygments_lexer": "ipython3",
   "version": "3.10.4"
  },
  "orig_nbformat": 4,
  "vscode": {
   "interpreter": {
    "hash": "aef0ad5cd858520acf7a7a5e6810764bf6b17c229c37f21e929fa08adc6f6002"
   }
  }
 },
 "nbformat": 4,
 "nbformat_minor": 2
}
